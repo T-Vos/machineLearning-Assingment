{
 "cells": [
  {
   "cell_type": "markdown",
   "metadata": {},
   "source": [
    "## Import Libraries\n",
    "In order to generate a bag of words representation we need the following libraries"
   ]
  },
  {
   "cell_type": "code",
   "execution_count": 1,
   "metadata": {},
   "outputs": [],
   "source": [
    "import numpy as np\n",
    "import json"
   ]
  },
  {
   "cell_type": "markdown",
   "metadata": {},
   "source": [
    "## Import Data\n"
   ]
  },
  {
   "cell_type": "code",
   "execution_count": 2,
   "metadata": {},
   "outputs": [
    {
     "name": "stderr",
     "output_type": "stream",
     "text": [
      "<ipython-input-2-0bdbe766f08c>:2: VisibleDeprecationWarning: Creating an ndarray from ragged nested sequences (which is a list-or-tuple of lists-or-tuples-or ndarrays with different lengths or shapes) is deprecated. If you meant to do this, you must specify 'dtype=object' when creating the ndarray.\n",
      "  data_set = np.array([ [x['fields_of_study'], x['citations']] for x in json.load(open('train-1.json')) if x['fields_of_study']])\n"
     ]
    }
   ],
   "source": [
    "# data_set = np.array([ [x['fields_of_study'], x['citations']] for x in json.load(open('train-1.json'))[:3] if x['fields_of_study']])\n",
    "data_set = np.array([ [x['fields_of_study'], x['citations']] for x in json.load(open('train-1.json')) if x['fields_of_study']])"
   ]
  },
  {
   "cell_type": "markdown",
   "metadata": {},
   "source": [
    "## Proportion analysis of journals/venues\n",
    "Aim of the code is to divide the data in n equal portions, where the 'lowest' division accounts for the group of X that contributes the least to a given Y."
   ]
  },
  {
   "cell_type": "code",
   "execution_count": 3,
   "metadata": {},
   "outputs": [],
   "source": [
    "def unique_Array_of_nested_array(x):\n",
    "    topics_array = list(map((lambda z: z[0]), x))\n",
    "    topics_array = np.concatenate(topics_array)\n",
    "    return np.unique(topics_array,return_counts=True)\n",
    "\n",
    "def divide_data_in_portions(XY):\n",
    "    #split data \n",
    "    X, _ = np.split(XY, 2, 1)\n",
    "\n",
    "    # Get unique topics\n",
    "    unique_topics = unique_Array_of_nested_array(X)\n",
    "    unique_topics_lenght = len(unique_topics[0])\n",
    "\n",
    "    # Generate 0 arrays in order to fill them with the counts\n",
    "    zero_arrays = np.zeros((3,unique_topics_lenght))\n",
    "\n",
    "    # Merge arrays together\n",
    "    merge = [unique_topics[0], unique_topics[1].astype(int), zero_arrays[0].astype(int), zero_arrays[1].astype(float), zero_arrays[2].astype(float)]\n",
    "    \n",
    "    # Compute citations per topic\n",
    "    for x in XY :\n",
    "        for topic in x[0]:\n",
    "            merge[2][np.where(merge[0] == topic)[0][0]] += int(x[1])\n",
    "\n",
    "\n",
    "    # Compute citations per topic divided by the amount of articles\n",
    "    for (i, j) in enumerate(merge[3]):\n",
    "        merge[3][i] = (merge[2][i]/merge[1][i])\n",
    "\n",
    "    # Compute new summed citations\n",
    "    summed_citations = np.sum(merge[3])\n",
    "\n",
    "    result = []\n",
    "    # Compute percentage of new total sum\n",
    "    for (i, j) in enumerate(merge[3]):\n",
    "        merge[4][i] = 100/summed_citations*merge[3][i]\n",
    "        result.append((merge[0][i],merge[1][i],merge[2][i],merge[3][i],merge[4][i]))\n",
    "\n",
    "    return result\n",
    "\n",
    "division = divide_data_in_portions(data_set)"
   ]
  },
  {
   "cell_type": "markdown",
   "metadata": {},
   "source": [
    "## Plot the line\n",
    "In order to make the data more acessible, the data can be plotted"
   ]
  },
  {
   "cell_type": "code",
   "execution_count": 5,
   "metadata": {},
   "outputs": [
    {
     "name": "stdout",
     "output_type": "stream",
     "text": [
      "Populating the interactive namespace from numpy and matplotlib\n",
      "[(b'Environmen',    1,      2,  2.        ,  0.46242247)\n",
      " (b'Philosophy',    8,     30,  3.75      ,  0.86704213)\n",
      " (b'Economics',    2,     10,  5.        ,  1.15605617)\n",
      " (b'Business',    5,     30,  6.        ,  1.3872674 )\n",
      " (b'Art',   14,     97,  6.92857143,  1.60196355)\n",
      " (b'History',   23,    230, 10.        ,  2.31211234)\n",
      " (b'Engineerin',   57,    655, 11.49122807,  2.65690102)\n",
      " (b'Biology',    8,    117, 14.625     ,  3.3814643 )\n",
      " (b'Political ',   29,    517, 17.82758621,  4.12193821)\n",
      " (b'Geography',    6,    107, 17.83333333,  4.12326701)\n",
      " (b'Medicine',   49,   1079, 22.02040816,  5.09136575)\n",
      " (b'Sociology',   37,    906, 24.48648649,  5.66155076)\n",
      " (b'Computer S', 9394, 356057, 37.9025974 ,  8.76350632)\n",
      " (b'Physics',    5,    247, 49.4       , 11.42183496)\n",
      " (b'Psychology',  120,   6501, 54.175     , 12.52586861)\n",
      " (b'Mathematic',  206,  13060, 63.39805825, 14.65834329)\n",
      " (b'Materials ',    3,    257, 85.66666667, 19.80709572)]\n"
     ]
    }
   ],
   "source": [
    "%pylab inline --no-import-all \n",
    "\n",
    "division = divide_data_in_portions(data_set)\n",
    "dtype = [('field_of_study', 'S10'), ('count', int), ('summed_citations', int), ('average_citations', float), ('contribution', float)]\n",
    "\n",
    "# create a structured array\n",
    "structured_array = np.array(division, dtype=dtype)\n",
    "sorted = np.sort(structured_array, order='contribution')\n",
    "print(sorted)\n"
   ]
  }
 ],
 "metadata": {
  "interpreter": {
   "hash": "b3ba2566441a7c06988d0923437866b63cedc61552a5af99d1f4fb67d367b25f"
  },
  "kernelspec": {
   "display_name": "Python 3.8.8 64-bit ('base': conda)",
   "language": "python",
   "name": "python3"
  },
  "language_info": {
   "codemirror_mode": {
    "name": "ipython",
    "version": 3
   },
   "file_extension": ".py",
   "mimetype": "text/x-python",
   "name": "python",
   "nbconvert_exporter": "python",
   "pygments_lexer": "ipython3",
   "version": "3.8.8"
  },
  "orig_nbformat": 4
 },
 "nbformat": 4,
 "nbformat_minor": 2
}
