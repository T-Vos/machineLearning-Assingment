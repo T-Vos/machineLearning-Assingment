{
 "cells": [
  {
   "cell_type": "markdown",
   "metadata": {},
   "source": [
    "## Import Libraries\n",
    "In order to generate a bag of words representation we need the following libraries"
   ]
  },
  {
   "cell_type": "code",
   "execution_count": 1,
   "metadata": {},
   "outputs": [],
   "source": [
    "import numpy as np\n",
    "import json"
   ]
  },
  {
   "cell_type": "markdown",
   "metadata": {},
   "source": [
    "## Import Data\n"
   ]
  },
  {
   "cell_type": "code",
   "execution_count": 2,
   "metadata": {},
   "outputs": [
    {
     "name": "stderr",
     "output_type": "stream",
     "text": [
      "<ipython-input-2-4a3b7c51e9cc>:1: VisibleDeprecationWarning: Creating an ndarray from ragged nested sequences (which is a list-or-tuple of lists-or-tuples-or ndarrays with different lengths or shapes) is deprecated. If you meant to do this, you must specify 'dtype=object' when creating the ndarray.\n",
      "  data_set = np.array([ [x['topics'], x['citations']] for x in json.load(open('train-1.json')) if x['topics']])\n"
     ]
    }
   ],
   "source": [
    "data_set = np.array([ [x['topics'], x['citations']] for x in json.load(open('train-1.json')) if x['topics']])\n",
    "# data_set = np.array([ [ np.array(x['topics']) , x['citations'] ] for x in json.load(open('train-1.json'))[:3] if x['topics']])"
   ]
  },
  {
   "cell_type": "markdown",
   "metadata": {},
   "source": [
    "## Proportion analysis of journals/venues\n",
    "Aim of the code is to divide the data in n equal portions, where the 'lowest' division accounts for the group of X that contributes the least to a given Y."
   ]
  },
  {
   "cell_type": "code",
   "execution_count": 3,
   "metadata": {},
   "outputs": [],
   "source": [
    "def unique_Array_of_nested_array(x):\n",
    "    topics_array = list(map((lambda z: z[0]), x))\n",
    "    topics_array = np.concatenate(topics_array)\n",
    "    return np.unique(topics_array,return_counts=True)\n",
    "\n",
    "def divide_data_in_portions(XY):\n",
    "    #split data \n",
    "    X, _ = np.split(XY, 2, 1)\n",
    "\n",
    "    # Get unique topics\n",
    "    unique_topics = unique_Array_of_nested_array(X)\n",
    "    unique_topics_lenght = len(unique_topics[0])\n",
    "\n",
    "    # Generate 0 arrays in order to fill them with the counts\n",
    "    zero_arrays = np.zeros((3,unique_topics_lenght))\n",
    "\n",
    "    # Merge arrays together\n",
    "    merge = [unique_topics[0], unique_topics[1].astype(int), zero_arrays[0].astype(int), zero_arrays[1].astype(int), zero_arrays[2].astype(float)]\n",
    "\n",
    "    # Compute citations per topic\n",
    "    for x in XY :\n",
    "        for topic in x[0]:\n",
    "            merge[2][np.where(merge[0] == topic)[0][0]] += int(x[1])\n",
    "\n",
    "\n",
    "    # Compute citations per topic divided by the amount of articles\n",
    "    for (i, j) in enumerate(merge[3]):\n",
    "        merge[3][i] = (merge[2][i]/merge[1][i])\n",
    "\n",
    "    # Compute new summed citations\n",
    "    summed_citations = np.sum(merge[3])\n",
    "\n",
    "    result = []\n",
    "    # Compute percentage of new total sum\n",
    "    for (i, j) in enumerate(merge[3]):\n",
    "        merge[4][i] = 100/summed_citations*merge[3][i]\n",
    "        result.append((merge[0][i],merge[1][i],merge[2][i],merge[3][i],merge[4][i]))\n",
    "\n",
    "    return result\n",
    "\n",
    "division = divide_data_in_portions(data_set)"
   ]
  },
  {
   "cell_type": "markdown",
   "metadata": {},
   "source": [
    "## Plot the line\n",
    "In order to make the data more acessible, the data can be plotted"
   ]
  },
  {
   "cell_type": "code",
   "execution_count": 4,
   "metadata": {},
   "outputs": [
    {
     "name": "stdout",
     "output_type": "stream",
     "text": [
      "Populating the interactive namespace from numpy and matplotlib\n"
     ]
    },
    {
     "ename": "UnicodeEncodeError",
     "evalue": "'ascii' codec can't encode character '\\u2013' in position 8: ordinal not in range(128)",
     "output_type": "error",
     "traceback": [
      "\u001b[1;31m---------------------------------------------------------------------------\u001b[0m",
      "\u001b[1;31mUnicodeEncodeError\u001b[0m                        Traceback (most recent call last)",
      "\u001b[1;32m<ipython-input-4-f0d0622ffca5>\u001b[0m in \u001b[0;36m<module>\u001b[1;34m\u001b[0m\n\u001b[0;32m      5\u001b[0m \u001b[1;33m\u001b[0m\u001b[0m\n\u001b[0;32m      6\u001b[0m \u001b[1;31m# create a structured array\u001b[0m\u001b[1;33m\u001b[0m\u001b[1;33m\u001b[0m\u001b[1;33m\u001b[0m\u001b[0m\n\u001b[1;32m----> 7\u001b[1;33m \u001b[0mstructured_array\u001b[0m \u001b[1;33m=\u001b[0m \u001b[0mnp\u001b[0m\u001b[1;33m.\u001b[0m\u001b[0marray\u001b[0m\u001b[1;33m(\u001b[0m\u001b[0mdivision\u001b[0m\u001b[1;33m,\u001b[0m \u001b[0mdtype\u001b[0m\u001b[1;33m=\u001b[0m\u001b[0mdtype\u001b[0m\u001b[1;33m)\u001b[0m\u001b[1;33m\u001b[0m\u001b[1;33m\u001b[0m\u001b[0m\n\u001b[0m\u001b[0;32m      8\u001b[0m \u001b[0msorted\u001b[0m \u001b[1;33m=\u001b[0m \u001b[0mnp\u001b[0m\u001b[1;33m.\u001b[0m\u001b[0msort\u001b[0m\u001b[1;33m(\u001b[0m\u001b[0mstructured_array\u001b[0m\u001b[1;33m,\u001b[0m \u001b[0morder\u001b[0m\u001b[1;33m=\u001b[0m\u001b[1;34m'contribution'\u001b[0m\u001b[1;33m)\u001b[0m\u001b[1;33m\u001b[0m\u001b[1;33m\u001b[0m\u001b[0m\n\u001b[0;32m      9\u001b[0m \u001b[0mprint\u001b[0m\u001b[1;33m(\u001b[0m\u001b[0msorted\u001b[0m\u001b[1;33m[\u001b[0m\u001b[1;33m-\u001b[0m\u001b[1;36m3\u001b[0m\u001b[1;33m:\u001b[0m\u001b[1;33m]\u001b[0m\u001b[1;33m)\u001b[0m\u001b[1;33m\u001b[0m\u001b[1;33m\u001b[0m\u001b[0m\n",
      "\u001b[1;31mUnicodeEncodeError\u001b[0m: 'ascii' codec can't encode character '\\u2013' in position 8: ordinal not in range(128)"
     ]
    }
   ],
   "source": [
    "%pylab inline --no-import-all \n",
    "\n",
    "division = divide_data_in_portions(data_set)\n",
    "dtype = [('field_of_study', 'S20'), ('count', int), ('summed_citations', int), ('average_citations', float), ('contribution', float)]\n",
    "\n",
    "# create a structured array\n",
    "structured_array = np.array(division, dtype=dtype)\n",
    "sorted = np.sort(structured_array, order='contribution')\n",
    "print(sorted[-3:])"
   ]
  }
 ],
 "metadata": {
  "interpreter": {
   "hash": "b3ba2566441a7c06988d0923437866b63cedc61552a5af99d1f4fb67d367b25f"
  },
  "kernelspec": {
   "display_name": "Python 3.8.8 64-bit ('base': conda)",
   "language": "python",
   "name": "python3"
  },
  "language_info": {
   "codemirror_mode": {
    "name": "ipython",
    "version": 3
   },
   "file_extension": ".py",
   "mimetype": "text/x-python",
   "name": "python",
   "nbconvert_exporter": "python",
   "pygments_lexer": "ipython3",
   "version": "3.8.8"
  },
  "orig_nbformat": 4
 },
 "nbformat": 4,
 "nbformat_minor": 2
}
