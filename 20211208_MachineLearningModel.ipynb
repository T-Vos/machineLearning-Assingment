{
 "cells": [
  {
   "cell_type": "markdown",
   "metadata": {},
   "source": [
    "# 1. Import Data"
   ]
  },
  {
   "cell_type": "code",
   "execution_count": 2,
   "metadata": {},
   "outputs": [],
   "source": [
    "# import libraries\n",
    "import numpy as np\n",
    "import pandas as pd\n",
    "import json\n",
    "from sklearn.model_selection import train_test_split\n",
    " \n",
    "def open_json_data(fileLocation = 'train-1.json'):\n",
    "    # Opening JSON file\n",
    "    openFile = open(fileLocation)\n",
    "    dictionary = json.load(openFile)\n",
    "    # return pd.DataFrame(dictionary)[:10]\n",
    "    return pd.DataFrame(dictionary)"
   ]
  },
  {
   "cell_type": "markdown",
   "metadata": {},
   "source": [
    "# 2. Process data\n"
   ]
  },
  {
   "cell_type": "markdown",
   "metadata": {},
   "source": [
    "## Dummy builders"
   ]
  },
  {
   "cell_type": "markdown",
   "metadata": {},
   "source": [
    "### Get sparseDummies"
   ]
  },
  {
   "cell_type": "markdown",
   "metadata": {},
   "source": [
    "### Get Dummies from single input"
   ]
  },
  {
   "cell_type": "code",
   "execution_count": 3,
   "metadata": {},
   "outputs": [],
   "source": [
    "def dummy(data, dummy_column, delete_cat = True, spase= False):\n",
    "    ## create dummy\n",
    "    dummy = pd.get_dummies(data[dummy_column],prefix=dummy_column, drop_first=True, sparse=spase)\n",
    "    # print('dummy', dummy.shape)\n",
    "    data = pd.concat([data, dummy], axis=1)\n",
    "    ## drop the original categorical column\n",
    "    if delete_cat : return data.drop(dummy_column, axis=1)\n",
    "    return data"
   ]
  },
  {
   "cell_type": "markdown",
   "metadata": {},
   "source": [
    "### Get Dummies from list"
   ]
  },
  {
   "cell_type": "code",
   "execution_count": 4,
   "metadata": {},
   "outputs": [],
   "source": [
    "def dummies_from_nestedList(data, dummy_column):\n",
    "    ## create dummy\n",
    "    print(data)\n",
    "    dummy = pd.get_dummies(data[dummy_column, 1].apply(pd.Series).stack()).sum(level=0)\n",
    "    print('dummy', dummy.shape)\n",
    "    data = pd.concat([data, dummy], axis=1)\n",
    "    ## drop the original categorical column\n",
    "    # if delete_cat : return data.drop(dummy_column, axis=1)\n",
    "    return data"
   ]
  },
  {
   "cell_type": "markdown",
   "metadata": {},
   "source": [
    "## Year Data"
   ]
  },
  {
   "cell_type": "markdown",
   "metadata": {},
   "source": [
    "### Adding the categorical years\n"
   ]
  },
  {
   "cell_type": "code",
   "execution_count": 5,
   "metadata": {},
   "outputs": [],
   "source": [
    "def get_years(data, return_with_dummy= False):\n",
    "    conditions = [\n",
    "        (data['year'] < 2000),\n",
    "        (data['year'] >= 2000) & (data['year'] <= 2010),\n",
    "        (data['year'] > 2010) & (data['year'] < 2016),\n",
    "        (data['year'] >= 2016)\n",
    "    ]\n",
    "    values = [1, 2, 3, 4]\n",
    "    data['class_year'] = np.select(conditions, values)\n",
    "    if return_with_dummy : return dummy(data,\"class_year\")\n",
    "    return data"
   ]
  },
  {
   "cell_type": "markdown",
   "metadata": {},
   "source": [
    "## References"
   ]
  },
  {
   "cell_type": "markdown",
   "metadata": {},
   "source": [
    "### Adding Categorical References"
   ]
  },
  {
   "cell_type": "code",
   "execution_count": 6,
   "metadata": {},
   "outputs": [],
   "source": [
    "def get_ref(file, return_with_dummy= False):\n",
    "    conditions = [\n",
    "        (file['references'] <12),\n",
    "        (file['references'] > 12) & (file['references'] <= 18),\n",
    "        (file['references'] > 18) & (file['references'] < 21),\n",
    "        (file['references'] > 21) & (file['references'] < 25),\n",
    "        (file['references'] > 25) & (file['references'] < 29),\n",
    "        (file['references'] > 29) & (file['references'] < 33),\n",
    "        (file['references'] > 33) & (file['references'] < 38),\n",
    "        (file['references'] > 38) & (file['references'] < 45),\n",
    "        (file['references'] > 45) & (file['references'] < 55),\n",
    "        (file['references'] >= 55)\n",
    "    ]\n",
    "    values = [1, 2, 3, 4, 5, 6 ,7 ,8,9,10]\n",
    "    file['class_ref'] = np.select(conditions, values)\n",
    "    if return_with_dummy : return dummy(file,\"class_ref\")\n",
    "    return file"
   ]
  },
  {
   "cell_type": "markdown",
   "metadata": {},
   "source": [
    "## Generic Data process"
   ]
  },
  {
   "cell_type": "markdown",
   "metadata": {},
   "source": [
    "### Fill Nan"
   ]
  },
  {
   "cell_type": "code",
   "execution_count": 7,
   "metadata": {},
   "outputs": [],
   "source": [
    "def fill_Nan(data):\n",
    "    data['year'] = data['year'].fillna(data['references'].mean())\n",
    "    data['references'] = data['references'].fillna(0)\n",
    "    data[\"fields_of_study\"] = data[\"fields_of_study\"].fillna(\"\")\n",
    "    data[\"title\"] = data[\"title\"].fillna(\"\")\n",
    "    return data"
   ]
  },
  {
   "cell_type": "markdown",
   "metadata": {},
   "source": [
    "## Length calculators"
   ]
  },
  {
   "cell_type": "markdown",
   "metadata": {},
   "source": [
    "### Title length\n"
   ]
  },
  {
   "cell_type": "code",
   "execution_count": 8,
   "metadata": {},
   "outputs": [],
   "source": [
    "def get_titleLen(data):\n",
    "    data[\"title_len\"] = data.apply(lambda x:len(x[\"title\"]),axis=1)\n",
    "    return data"
   ]
  },
  {
   "cell_type": "markdown",
   "metadata": {},
   "source": [
    "### Authors length"
   ]
  },
  {
   "cell_type": "code",
   "execution_count": 9,
   "metadata": {},
   "outputs": [],
   "source": [
    "def get_AuthorsLen(data):\n",
    "    data[\"authors_len\"] = data.apply(lambda x:len(x[\"authors\"]),axis=1)\n",
    "    return data"
   ]
  },
  {
   "cell_type": "markdown",
   "metadata": {},
   "source": [
    "### Topics Length"
   ]
  },
  {
   "cell_type": "code",
   "execution_count": 10,
   "metadata": {},
   "outputs": [],
   "source": [
    "def get_TopicsLen(data):\n",
    "    data[\"topics_len\"] = data.apply(lambda x:len(x[\"topics\"]),axis=1)\n",
    "    return data"
   ]
  },
  {
   "cell_type": "markdown",
   "metadata": {},
   "source": [
    "### Fields of Study Length"
   ]
  },
  {
   "cell_type": "code",
   "execution_count": 11,
   "metadata": {},
   "outputs": [],
   "source": [
    "def get_FieldsOfStudyLen(data):\n",
    "    data[\"fields_of_study_len\"] = data.apply(lambda x:len(x[\"fields_of_study\"]),axis=1)\n",
    "    return data"
   ]
  },
  {
   "cell_type": "markdown",
   "metadata": {},
   "source": [
    "\n",
    "## Venue"
   ]
  },
  {
   "cell_type": "markdown",
   "metadata": {},
   "source": [
    "### Generate Venue Data"
   ]
  },
  {
   "cell_type": "code",
   "execution_count": 12,
   "metadata": {},
   "outputs": [
    {
     "name": "stdout",
     "output_type": "stream",
     "text": [
      "299\n"
     ]
    }
   ],
   "source": [
    "data_set = np.array([ [x['venue'], x['citations']] for x in json.load(open('train-1.json')) if x['venue']])\n",
    "\n",
    "def get_cat(dataFrame):\n",
    "    conditions = [\n",
    "        (dataFrame['cumsum'] == 0),\n",
    "        (dataFrame['cumsum'] > 0) & (dataFrame['cumsum'] <= 10),\n",
    "        (dataFrame['cumsum'] > 10) & (dataFrame['cumsum'] <= 20),\n",
    "        (dataFrame['cumsum'] > 20) & (dataFrame['cumsum'] <= 30),\n",
    "        (dataFrame['cumsum'] > 30) & (dataFrame['cumsum'] <= 40),\n",
    "        (dataFrame['cumsum'] > 40) & (dataFrame['cumsum'] <= 50),\n",
    "        (dataFrame['cumsum'] > 50) & (dataFrame['cumsum'] <= 60),\n",
    "        (dataFrame['cumsum'] > 60) & (dataFrame['cumsum'] <= 70),\n",
    "        (dataFrame['cumsum'] > 70) & (dataFrame['cumsum'] <= 80),\n",
    "        (dataFrame['cumsum'] > 80) & (dataFrame['cumsum'] <= 90),\n",
    "        (dataFrame['cumsum'] > 90) & (dataFrame['cumsum'] <= 92),\n",
    "        (dataFrame['cumsum'] > 92) & (dataFrame['cumsum'] <= 94),\n",
    "        (dataFrame['cumsum'] > 94) & (dataFrame['cumsum'] <= 96),\n",
    "        (dataFrame['cumsum'] > 96) & (dataFrame['cumsum'] <= 98),\n",
    "        (dataFrame['cumsum'] >= 98)\n",
    "    ]\n",
    "    values = [1,2,3,4,5,6,7,8,9,10,11,13,14,15,16]\n",
    "    dataFrame['class_Venue'] = np.select(conditions, values)\n",
    "    return dataFrame\n",
    "\n",
    "def get_venue_dictionary(XY):\n",
    "    #split data \n",
    "    X, _ = np.split(XY, 2, 1)\n",
    "    \n",
    "    unique_X = np.unique(X,return_counts=True)\n",
    "    unique_X_length = len(unique_X[0])\n",
    "    print(unique_X_length)\n",
    "    zero_array = np.zeros((3,unique_X_length))\n",
    "\n",
    "    merge = [unique_X[0], unique_X[1].astype(int), zero_array[0].astype(int), zero_array[1].astype(int), zero_array[2].astype(float)]\n",
    "    \n",
    "    # Compute citations per topic\n",
    "    for x in XY :\n",
    "        merge[2][np.where(merge[0] == x[0])[0][0]] += int(x[1])\n",
    "\n",
    "    # Compute citations per topic divided by the amount of articles\n",
    "    for (i, j) in enumerate(merge[3]):\n",
    "        merge[3][i] = (merge[2][i]/merge[1][i])\n",
    "\n",
    "    # Compute new summed citations\n",
    "    summed_citations = np.sum(merge[3])\n",
    "    result = []\n",
    "    for (i, j) in enumerate(merge[3]):\n",
    "        merge[4][i] = 100/summed_citations*merge[3][i]\n",
    "        result.append((merge[0][i],merge[1][i],merge[2][i],merge[3][i],merge[4][i]))\n",
    "    \n",
    "    dtype = [('venue', 'S100'), ('count', int), ('summed_citations', int), ('average_citations', float), ('contribution', float)]\n",
    "    \n",
    "    structured_array = np.array(result, dtype=dtype)\n",
    "    sorted = np.sort(structured_array, order='contribution')\n",
    "    df = pd.DataFrame(sorted)\n",
    "    df['cumsum'] = df['contribution'].cumsum(axis=0)\n",
    "    df = get_cat(df)\n",
    "    return df\n",
    "get_venue_dictionary(data_set).to_pickle(\"venue_data.pkl\")"
   ]
  },
  {
   "cell_type": "markdown",
   "metadata": {},
   "source": [
    "### Find venue data"
   ]
  },
  {
   "cell_type": "code",
   "execution_count": 13,
   "metadata": {},
   "outputs": [],
   "source": [
    "def find_venue_in_dataFrame(venue, venues_dict):\n",
    "    venue_cat = venues_dict[venues_dict[\"venue\"].str.decode(\"utf-8\")  == venue]\n",
    "    if len(venue_cat)>0 : return venue_cat.iloc[0]['class_Venue']\n",
    "    return 0\n",
    "\n",
    "def get_venue(data):\n",
    "    venue_dictionary = pd.read_pickle(\"venue_data.pkl\")\n",
    "    data[\"venue_cat\"] = data.apply(lambda x:find_venue_in_dataFrame(x.venue, venue_dictionary),axis=1)\n",
    "    return data\n"
   ]
  },
  {
   "cell_type": "markdown",
   "metadata": {},
   "source": [
    "## Topics"
   ]
  },
  {
   "cell_type": "markdown",
   "metadata": {},
   "source": [
    "### Generate Topic Data"
   ]
  },
  {
   "cell_type": "code",
   "execution_count": 14,
   "metadata": {},
   "outputs": [
    {
     "name": "stderr",
     "output_type": "stream",
     "text": [
      "<ipython-input-14-538f5a88a746>:1: VisibleDeprecationWarning: Creating an ndarray from ragged nested sequences (which is a list-or-tuple of lists-or-tuples-or ndarrays with different lengths or shapes) is deprecated. If you meant to do this, you must specify 'dtype=object' when creating the ndarray.\n",
      "  data_set = np.array([ [x['topics'], x['citations']] for x in json.load(open('train-1.json')) if x['topics']])\n"
     ]
    }
   ],
   "source": [
    "data_set = np.array([ [x['topics'], x['citations']] for x in json.load(open('train-1.json')) if x['topics']])\n",
    "\n",
    "def get_cat(dataFrame):\n",
    "    conditions = [\n",
    "        (dataFrame['cumsum'] == 0),\n",
    "        (dataFrame['cumsum'] > 0) & (dataFrame['cumsum'] <= 10),\n",
    "        (dataFrame['cumsum'] > 10) & (dataFrame['cumsum'] <= 20),\n",
    "        (dataFrame['cumsum'] > 20) & (dataFrame['cumsum'] <= 30),\n",
    "        (dataFrame['cumsum'] > 30) & (dataFrame['cumsum'] <= 40),\n",
    "        (dataFrame['cumsum'] > 40) & (dataFrame['cumsum'] <= 50),\n",
    "        (dataFrame['cumsum'] > 50) & (dataFrame['cumsum'] <= 60),\n",
    "        (dataFrame['cumsum'] > 60) & (dataFrame['cumsum'] <= 70),\n",
    "        (dataFrame['cumsum'] > 70) & (dataFrame['cumsum'] <= 80),\n",
    "        (dataFrame['cumsum'] > 80) & (dataFrame['cumsum'] <= 90),\n",
    "        (dataFrame['cumsum'] > 90)\n",
    "    ]\n",
    "    values = [0,1, 2, 3, 4,5,6,7,8,9,10]\n",
    "    dataFrame['class_topic'] = np.select(conditions, values)\n",
    "    return dataFrame\n",
    "\n",
    "def unique_Array_of_nested_array(x):\n",
    "    topics_array = list(map((lambda z: z[0]), x))\n",
    "    topics_array = np.concatenate(topics_array)\n",
    "    return np.unique(topics_array,return_counts=True)\n",
    "\n",
    "def get_venue_dictionary(XY):\n",
    "    #split data \n",
    "    X, _ = np.split(XY, 2, 1)\n",
    "\n",
    "    # Get unique topics\n",
    "    unique_topics = unique_Array_of_nested_array(X)\n",
    "    unique_topics_lenght = len(unique_topics[0])\n",
    "\n",
    "    # Generate 0 arrays in order to fill them with the counts\n",
    "    zero_arrays = np.zeros((3,unique_topics_lenght))\n",
    "\n",
    "    # Merge arrays together\n",
    "    merge = [unique_topics[0], unique_topics[1].astype(int), zero_arrays[0].astype(int), zero_arrays[1].astype(int), zero_arrays[2].astype(float)]\n",
    "\n",
    "    # Compute citations per topic\n",
    "    for x in XY :\n",
    "        for topic in x[0]:\n",
    "            merge[2][np.where(merge[0] == topic)[0][0]] += int(x[1])\n",
    "\n",
    "\n",
    "    # Compute citations per topic divided by the amount of articles\n",
    "    for (i, j) in enumerate(merge[3]):\n",
    "        merge[3][i] = (merge[2][i]/merge[1][i])\n",
    "\n",
    "    # Compute new summed citations\n",
    "    summed_citations = np.sum(merge[3])\n",
    "\n",
    "    result = []\n",
    "    # Compute percentage of new total sum\n",
    "    for (i, j) in enumerate(merge[3]):\n",
    "        merge[4][i] = 100/summed_citations*merge[3][i]\n",
    "        result.append((merge[0][i],merge[1][i],merge[2][i],merge[3][i],merge[4][i]))\n",
    "\n",
    "    dtype = [('topic', 'str'), ('count', int), ('summed_citations', int), ('average_citations', float), ('contribution', float)]\n",
    "    structured_array = np.array(result, dtype=dtype)\n",
    "\n",
    "    sorted = np.sort(structured_array, order='contribution')\n",
    "    df = pd.DataFrame(sorted)\n",
    "    df['cumsum'] = df['contribution'].cumsum(axis=0)\n",
    "    df = get_cat(df)\n",
    "    return df\n",
    "get_venue_dictionary(data_set).to_pickle(\"topic_data.pkl\")"
   ]
  },
  {
   "cell_type": "markdown",
   "metadata": {},
   "source": [
    "### Extract topic data"
   ]
  },
  {
   "cell_type": "markdown",
   "metadata": {},
   "source": []
  },
  {
   "cell_type": "markdown",
   "metadata": {},
   "source": [
    "## Abstract\n",
    " "
   ]
  },
  {
   "cell_type": "markdown",
   "metadata": {},
   "source": [
    "### Abstract Vector"
   ]
  },
  {
   "cell_type": "code",
   "execution_count": 15,
   "metadata": {},
   "outputs": [],
   "source": [
    "from sklearn.feature_extraction.text import CountVectorizer\n",
    "from sklearn.feature_extraction.text import TfidfTransformer\n",
    "\n",
    "def create_countVector():\n",
    "    train_data = [ x['abstract'] for x in json.load(open('train-1.json')) if x['abstract']]\n",
    "    tfIdfTransformer = TfidfTransformer(use_idf=True)\n",
    "    countVectorizer = CountVectorizer()\n",
    "    wordCount = countVectorizer.fit_transform(train_data)\n",
    "    newTfIdf = tfIdfTransformer.fit_transform(wordCount)\n",
    "    df = pd.DataFrame(newTfIdf[0].T.todense(), index = countVectorizer.get_feature_names(), columns = [\"TF-IDF\"])\n",
    "    df = df.sort_values('TF-IDF', ascending = False)\n",
    "\n",
    "create_countVector()\n"
   ]
  },
  {
   "cell_type": "markdown",
   "metadata": {},
   "source": [
    "# Figures"
   ]
  },
  {
   "cell_type": "markdown",
   "metadata": {},
   "source": [
    "## Plot single line"
   ]
  },
  {
   "cell_type": "code",
   "execution_count": 16,
   "metadata": {},
   "outputs": [],
   "source": [
    "import matplotlib.pyplot as plt\n",
    "def plotY(Y):\n",
    "    Y = np.array(Y)\n",
    "    Y = np.sort(Y)\n",
    "    plt.plot(Y)\n",
    "    return plt.show()"
   ]
  },
  {
   "cell_type": "markdown",
   "metadata": {},
   "source": [
    "## Plot 2 lines"
   ]
  },
  {
   "cell_type": "code",
   "execution_count": 17,
   "metadata": {},
   "outputs": [],
   "source": [
    "import matplotlib.pyplot as plt\n",
    "def plotY2(Ypred,Yreal):\n",
    "    length = len(Ypred)\n",
    "    plt.plot(Yreal,'b')\n",
    "    plt.plot(Ypred,'r')\n",
    "    return plt.show()"
   ]
  },
  {
   "cell_type": "markdown",
   "metadata": {},
   "source": [
    "## Histogram"
   ]
  },
  {
   "cell_type": "code",
   "execution_count": 18,
   "metadata": {},
   "outputs": [],
   "source": [
    "def PlotHistY(Y):\n",
    "    plt.hist(x=Y, bins=20)\n",
    "    plt.show()"
   ]
  },
  {
   "cell_type": "markdown",
   "metadata": {},
   "source": [
    "# Model"
   ]
  },
  {
   "cell_type": "markdown",
   "metadata": {},
   "source": [
    "## Evaluation"
   ]
  },
  {
   "cell_type": "code",
   "execution_count": 19,
   "metadata": {},
   "outputs": [],
   "source": [
    "from sklearn import metrics\n",
    "\n",
    "def eval(predicted, y_test):\n",
    "    ## Kpi\n",
    "    print(\"R2 (explained variance):\", round(metrics.r2_score(y_test, predicted), 2))\n",
    "    print(\"Mean Absolute Perc Error (Σ(|y-pred|/y)/n):\", round(np.mean(np.abs((y_test - predicted) / predicted)), 2))\n",
    "    print(\"Mean Absolute Error (Σ|y-pred|/n):\", \"{:,.0f}\".format(metrics.mean_absolute_error(y_test, predicted)))\n",
    "    print(\"Root Mean Squared Error (sqrt(Σ(y-pred)^2/n)):\",\n",
    "            \"{:,.0f}\".format(np.sqrt(metrics.mean_squared_error(y_test, predicted))))\n",
    "    ## residuals\n",
    "    residuals = y_test - predicted\n",
    "    max_error = max(residuals) if abs(max(residuals)) > abs(min(residuals)) else min(residuals)\n",
    "    max_idx = list(residuals).index(max(residuals)) if abs(max(residuals)) > abs(min(residuals)) else list(\n",
    "        residuals).index(min(residuals))\n",
    "    # max_true, max_pred = y_test[max_idx], predicted[max_idx]\n",
    "    print(\"Max Error:\", \"{:,.0f}\".format(max_error))\n",
    "    return(residuals,max_error,max_idx)"
   ]
  },
  {
   "cell_type": "markdown",
   "metadata": {},
   "source": [
    "## Models"
   ]
  },
  {
   "cell_type": "code",
   "execution_count": 58,
   "metadata": {},
   "outputs": [],
   "source": [
    "import numpy as np\n",
    "from sklearn.model_selection import train_test_split\n",
    "from sklearn.preprocessing import StandardScaler\n",
    "from sklearn.pipeline import make_pipeline\n",
    "from sklearn.svm import SVR,LinearSVR\n",
    "from sklearn import linear_model\n",
    "from sklearn.ensemble import AdaBoostRegressor,VotingRegressor\n",
    "from sklearn.linear_model import SGDRegressor\n",
    "from sklearn.model_selection import GridSearchCV\n",
    "\n",
    "def modelCalculators(X_train, y_train, X_val, y_val, train=True):\n",
    "    # sdgRegres = make_pipeline(StandardScaler(), SGDRegressor(max_iter=100000, tol=1e-3))\n",
    "    # sdgRegres.fit(X_train, y_train)\n",
    "    # sdgRegres_score = sdgRegres.score(X_val, y_val)\n",
    "    # sdgRegres_transformed = sdgRegres.predict(X_val)\n",
    "    # sdgRegres_pred = np.exp(sdgRegres_transformed)\n",
    "    # print('SDG',sdgRegres_score)\n",
    "\n",
    "\n",
    "    linearRidg = make_pipeline(StandardScaler(), linear_model.Ridge(alpha=1.1))\n",
    "    # linearRidg.fit(X_train, y_train)\n",
    "    # linearRidg_score = linearRidg.score(X_val, y_val)\n",
    "    # linearRidg_transformed = linearRidg.predict(X_val)\n",
    "    # linearRidg_pred = np.exp(linearRidg_transformed)\n",
    "    # print('Ridg',linearRidg_score)\n",
    "    \n",
    "    linearLasso = make_pipeline(StandardScaler(), linear_model.Lasso(alpha=1.1, selection='random'))\n",
    "    # linearLasso.fit(X_train, y_train)\n",
    "    # linearLasso_score = linearLasso.score(X_val, y_val)\n",
    "    # linearLasso_transformed = linearLasso.predict(X_val)\n",
    "    # linearLasso_pred = np.exp(linearLasso_transformed)\n",
    "    # print('Lasso',linearLasso_score)\n",
    "\n",
    "    svrRegress = make_pipeline(StandardScaler(), SVR(C=1.0, epsilon=0.2, kernel='rbf', degree=4))\n",
    "    # svrRegress.fit(X_train, y_train)\n",
    "    # svrRegress_score = svrRegress.score(X_val, y_val)\n",
    "    # svrRegress_transformed = svrRegress.predict(X_val)\n",
    "    # svrRegress_pred = np.exp(svrRegress_transformed)\n",
    "    # print('SVR Regress',svrRegress_score)\n",
    "\n",
    "    linearSVR = make_pipeline(StandardScaler(), LinearSVR(random_state=0,max_iter=100000, tol=1e-5))\n",
    "    # linearSVR.fit(X_train, y_train)\n",
    "    # linearSVR_score = linearSVR.score(X_val, y_val)\n",
    "    # linearSVR_transformed = linearSVR.predict(X_val)\n",
    "    # linearSVR_pred = np.exp(linearSVR_transformed)\n",
    "    # print('SVR Lin',linearSVR_score)\n",
    "\n",
    "    adaBoostReg = AdaBoostRegressor(random_state=0, n_estimators=100)\n",
    "    # adaBoostReg.fit(X_train, y_train)\n",
    "    # adaBoostReg_score = adaBoostReg.score(X_val, y_val)\n",
    "    # adaBoostReg_transformed = adaBoostReg.predict(X_val)\n",
    "    # adaBoostReg_pred = np.exp(adaBoostReg_transformed)\n",
    "    # print('Ada',adaBoostReg_score)\n",
    "\n",
    "    regressionVoted = VotingRegressor([('Ridg', linearRidg),('SVR', svrRegress),('ada', adaBoostReg), ('linearSVR', linearSVR)],n_jobs=-1)\n",
    "    regressionVoted.fit(X_train, y_train)\n",
    "    \n",
    "    if train : \n",
    "        regressionVoted_score = regressionVoted.score(X_val, y_val)\n",
    "        print('Voted',regressionVoted_score)\n",
    "\n",
    "    regressionVoted_transformed = regressionVoted.predict(X_val)\n",
    "    regressionVoted_pred = np.exp(regressionVoted_transformed)\n",
    "    \n",
    "\n",
    "    # params = {\n",
    "    #     'lr__C': [1.0, 100.0],\n",
    "    #     'svm__C': [2,3,4],\n",
    "    # }\n",
    "\n",
    "    # grid = GridSearchCV(estimator=regressionVoted, param_grid=params, cv=2, n_jobs=-1)\n",
    "    # grid.fit(X_train,y_train)\n",
    "    # grid_score = grid.score(X_val, y_val)\n",
    "    # grid_transformed = grid.predict(X_val)\n",
    "    # grid_pred = np.exp(grid_transformed)\n",
    "    # print('Grid', grid_score)\n",
    "\n",
    "    return regressionVoted_pred"
   ]
  },
  {
   "cell_type": "markdown",
   "metadata": {},
   "source": [
    "## Data transformation"
   ]
  },
  {
   "cell_type": "code",
   "execution_count": 62,
   "metadata": {},
   "outputs": [],
   "source": [
    "def transformData(data):\n",
    "    data = fill_Nan(data)\n",
    "    data = get_ref(data, True)\n",
    "    data = get_years(data, True)    \n",
    "    data = get_titleLen(data)\n",
    "    data = get_FieldsOfStudyLen(data)\n",
    "    data = get_TopicsLen(data)\n",
    "    data = get_AuthorsLen(data)\n",
    "    data = get_venue(data)\n",
    "\n",
    "    data = data.assign(fields_of_study_len2 = lambda x: x['fields_of_study_len'] * x['fields_of_study_len'])\n",
    "    data = data.assign(fields_of_study_len3 = lambda x: x['fields_of_study_len'] * x['fields_of_study_len'] * x['fields_of_study_len'])\n",
    "    data = data.assign(topicsLen2 = lambda x: x['topics_len'] * x['topics_len'])\n",
    "    data = data.assign(topicsLen3 = lambda x: x['topics_len'] * x['topics_len'] * x['topics_len'])\n",
    "    data = data.assign(topicsLen4 = lambda x: x['topics_len'] * x['topics_len'] * x['topics_len']* x['topics_len'])\n",
    "    data = data.assign(topicsLen5 = lambda x: x['topics_len'] * x['topics_len'] * x['topics_len']* x['topics_len']* x['topics_len'])\n",
    "    data = data.assign(authorsLen2 = lambda x: x['authors_len'] * x['authors_len'])\n",
    "    data = data.assign(topicsFoS = lambda x: x['topics_len'] * x['fields_of_study_len'])\n",
    "    data = data.assign(topicsVenueCat = lambda x: x['topics_len'] * x['venue_cat'])\n",
    "    data = data.assign(references2 = lambda x: x['references'] * x['references'])\n",
    "    data = data.assign(references3 = lambda x: x['references'] * x['references']* x['references'])\n",
    "    data = data.assign(references4 = lambda x: x['references'] * x['references']* x['references']* x['references'])\n",
    "    return data"
   ]
  },
  {
   "cell_type": "markdown",
   "metadata": {},
   "source": [
    "## Create X"
   ]
  },
  {
   "cell_type": "code",
   "execution_count": 22,
   "metadata": {},
   "outputs": [],
   "source": [
    "def return_x(data, train=True):\n",
    "    if train : return data.drop([\"citations\", \"year\", \"doi\", \"title\", \"abstract\", \"authors\", \"topics\",\"fields_of_study\", \"venue\"], axis=1).values\n",
    "    return data.drop([\"year\", \"doi\", \"title\", \"abstract\", \"authors\", \"topics\",\"fields_of_study\", \"venue\"], axis=1).values"
   ]
  },
  {
   "cell_type": "markdown",
   "metadata": {},
   "source": [
    "## Training\n",
    "\n",
    "The function will consist of two steps, first the program will load all the data and process this. This is necessary in order to know the relative contribution of different variables. Then it will split the data file in two sections, train and test in order to know the respective progress of the learning task."
   ]
  },
  {
   "cell_type": "code",
   "execution_count": null,
   "metadata": {},
   "outputs": [
    {
     "name": "stdout",
     "output_type": "stream",
     "text": [
      "(9658, 41)\n",
      "SVR Regress 0.42337044400638213\n",
      "Voted 0.4329562640627489\n"
     ]
    },
    {
     "data": {
      "image/png": "[encoded data removed]",
      "text/plain": [
       "<Figure size 432x288 with 1 Axes>"
      ]
     },
     "metadata": {
      "needs_background": "light"
     },
     "output_type": "display_data"
    },
    {
     "data": {
      "image/png": "[encoded data removed]",
      "text/plain": [
       "<Figure size 432x288 with 1 Axes>"
      ]
     },
     "metadata": {
      "needs_background": "light"
     },
     "output_type": "display_data"
    },
    {
     "data": {
      "image/png": "[encoded data removed]",
      "text/plain": [
       "<Figure size 432x288 with 1 Axes>"
      ]
     },
     "metadata": {
      "needs_background": "light"
     },
     "output_type": "display_data"
    },
    {
     "name": "stdout",
     "output_type": "stream",
     "text": [
      "R2 (explained variance): 0.01\n",
      "Mean Absolute Perc Error (Σ(|y-pred|/y)/n): 2.18\n",
      "Mean Absolute Error (Σ|y-pred|/n): 36\n",
      "Root Mean Squared Error (sqrt(Σ(y-pred)^2/n)): 247\n",
      "Max Error: 9,079\n",
      "[  0.89749744   0.92813754   0.99477793 ... 112.13656629 140.97663554\n",
      " 199.7538643 ]\n"
     ]
    }
   ],
   "source": [
    "def model(): \n",
    "    data = open_json_data()\n",
    "\n",
    "    data = transformData(data)\n",
    "    print(data.shape)\n",
    "            \n",
    "    X = return_x(data)\n",
    "    y = data[\"citations\"].values\n",
    "\n",
    "    X_train, X_val, y_train, y_val = train_test_split(X, y, test_size=0.33, random_state=2000)\n",
    "    \n",
    "    y_train_transformed = np.log1p(y_train)\n",
    "    y_val_transformed = np.log1p(y_val)\n",
    "\n",
    "    pred_y = modelCalculators(X_train, y_train_transformed, X_val, y_val_transformed)\n",
    "    # pred_y[pred_y < 0] = 0\n",
    "    \n",
    "    plotY(pred_y)\n",
    "    plotY(y_val)\n",
    "    plotY2(pred_y, y_val)\n",
    "    eval(pred_y, y_val)\n",
    "    YpredSorted = np.sort(pred_y)\n",
    "    print(YpredSorted)\n",
    "    return\n",
    "\n",
    "model()"
   ]
  },
  {
   "cell_type": "markdown",
   "metadata": {},
   "source": [
    "# Test generator"
   ]
  },
  {
   "cell_type": "code",
   "execution_count": 65,
   "metadata": {},
   "outputs": [
    {
     "name": "stdout",
     "output_type": "stream",
     "text": [
      "(9658, 41)\n",
      "(1000, 40)\n",
      "[         0          0          0          0          0          0\n",
      "          0          0          0          0          0          0\n",
      "          0          0          0          0          0          0\n",
      "          0          0          0          0          0          0\n",
      "          0          0          0          0          0          0\n",
      "          0          0          0          0          0          0\n",
      "          0          0          0          0          0          0\n",
      "          0          0          0          0          0          0\n",
      "          0          0          0          0          0          0\n",
      "          0          0          0          0          0          0\n",
      "          0          0          0          0          0          0\n",
      "          0          0          0          0          0          0\n",
      "          0          0          0          0          0          0\n",
      "          0          0          0          0          0          1\n",
      "          1          1          1          1          1          1\n",
      "          1          1          1          1          1          1\n",
      "          1          1          1          2          2          2\n",
      "          2          2          3          3          3          4\n",
      "          4          4          5          5          6          6\n",
      "          7          7          7          7          8          9\n",
      "         10         10         12         13         22         22\n",
      "         26         26         29         29         34         35\n",
      "         36         36         38         39         51         51\n",
      "         52         56         59         71         73         78\n",
      "         79         81         83         83         93         95\n",
      "         96        100        102        113        116        117\n",
      "        120        122        130        133        137        145\n",
      "        152        160        163        169        189        200\n",
      "        202        208        214        222        223        228\n",
      "        264        277        281        282        285        287\n",
      "        296        297        302        312        316        321\n",
      "        324        341        343        345        348        351\n",
      "        361        373        385        390        429        431\n",
      "        436        437        441        443        447        465\n",
      "        490        497        504        516        523        532\n",
      "        545        552        568        585        586        603\n",
      "        618        619        634        649        660        672\n",
      "        674        691        719        728        732        744\n",
      "        764        780        819        870        877        882\n",
      "        889        890        891        892        893        901\n",
      "        902        919        926        979       1014       1030\n",
      "       1075       1084       1126       1170       1206       1219\n",
      "       1253       1342       1355       1358       1375       1401\n",
      "       1407       1458       1459       1517       1574       1605\n",
      "       1648       1657       1676       1758       1761       1768\n",
      "       1769       1774       1877       1915       1921       1981\n",
      "       2027       2032       2040       2048       2056       2060\n",
      "       2109       2142       2247       2266       2280       2293\n",
      "       2401       2412       2415       2431       2453       2499\n",
      "       2500       2551       2669       2681       2689       2731\n",
      "       2758       2802       2816       2873       2955       2962\n",
      "       2994       3024       3043       3070       3080       3115\n",
      "       3128       3201       3202       3209       3241       3258\n",
      "       3262       3264       3353       3369       3402       3456\n",
      "       3476       3484       3516       3558       3605       3634\n",
      "       3654       3799       3835       3881       3898       3914\n",
      "       3934       4027       4107       4156       4196       4237\n",
      "       4653       4663       4772       4797       4797       4813\n",
      "       4840       4862       4940       4974       5155       5300\n",
      "       5519       5658       5839       5974       6132       6173\n",
      "       6218       6274       6326       6399       6412       6434\n",
      "       6439       6490       6557       6803       6897       6903\n",
      "       6928       7168       7236       7319       7319       7618\n",
      "       7685       7844       7854       7934       7935       8070\n",
      "       8156       8261       8430       8512       8524       8624\n",
      "       8926       9046       9148       9160       9497       9608\n",
      "       9655       9740       9869       9925      10023      10058\n",
      "      10256      10403      10564      10725      11018      11360\n",
      "      11633      11636      11871      12244      12339      12424\n",
      "      12543      12606      12701      12767      12929      13075\n",
      "      13114      13541      13542      13775      13878      13911\n",
      "      13942      14273      14275      14355      14474      14529\n",
      "      14562      15187      15448      15907      15944      16191\n",
      "      16308      16421      16540      16877      16943      16959\n",
      "      17324      17712      17862      17898      17912      17918\n",
      "      18154      18538      18717      19016      19051      19119\n",
      "      19268      19383      19411      19810      20214      20440\n",
      "      20514      20808      21090      21675      22881      23746\n",
      "      23822      23974      24074      24271      24465      24920\n",
      "      25174      25411      25475      25481      25522      25695\n",
      "      25905      26287      26480      26706      26805      27449\n",
      "      27859      28162      28221      28447      28485      28563\n",
      "      28828      29003      29042      29079      29806      30068\n",
      "      31587      31652      32130      32477      32512      32738\n",
      "      33110      33358      33659      34161      34531      36138\n",
      "      37106      37245      37685      37710      38145      38147\n",
      "      38197      38863      39204      39318      39426      39649\n",
      "      40661      40696      40893      41690      42304      42444\n",
      "      42588      42721      43086      43096      43323      43816\n",
      "      44150      44797      45403      45627      47737      49659\n",
      "      52224      52422      52851      56284      57199      58396\n",
      "      58538      58618      59164      61594      61843      61945\n",
      "      62732      62742      67072      67917      67987      68419\n",
      "      68569      68595      69031      69162      69168      69468\n",
      "      71402      73073      76140      76373      76786      77391\n",
      "      77633      78653      78999      80103      80574      82658\n",
      "      83664      86144      86668      88448      89874      92999\n",
      "      94003      94143      94631      95842      96391      97310\n",
      "      99264      99792      99948     100712     100888     102223\n",
      "     106597     107389     108062     109235     111519     111738\n",
      "     112514     114365     116644     117261     118139     119354\n",
      "     120526     121823     123408     125659     126139     126560\n",
      "     133687     138819     139134     139433     139528     146228\n",
      "     148013     150858     152557     154564     156504     161804\n",
      "     162785     166009     166928     170348     174626     177216\n",
      "     179293     180665     182031     183482     183583     185171\n",
      "     188298     193939     196733     196750     203045     203912\n",
      "     213890     215301     216979     217317     217466     221123\n",
      "     225367     225587     235768     243453     247045     251361\n",
      "     252897     253525     262599     269494     277551     284655\n",
      "     292164     301410     304610     307672     308183     309183\n",
      "     312805     312922     320659     329009     329626     329813\n",
      "     340768     352831     360559     363344     371083     372220\n",
      "     372851     392860     400110     400646     402498     404245\n",
      "     410368     412044     413687     416200     420868     425221\n",
      "     430902     448417     451468     455492     460484     470742\n",
      "     473069     473512     477927     486429     500609     515727\n",
      "     541733     554874     557390     562757     570693     573498\n",
      "     577663     582656     609912     620114     628678     628688\n",
      "     638050     659545     661362     678319     709604     716544\n",
      "     721851     746185     783845     810692     811402     812347\n",
      "     824972     827338     839504     848723     853405     855602\n",
      "     905601     919062     932887     933427     946655     950465\n",
      "    1002703    1011022    1014470    1018286    1040685    1047268\n",
      "    1048401    1074089    1084967    1134545    1142558    1146989\n",
      "    1162384    1185367    1193500    1214261    1217448    1219512\n",
      "    1248588    1252951    1279948    1306514    1369441    1381349\n",
      "    1384505    1388961    1397912    1403287    1427803    1432168\n",
      "    1435635    1440569    1457095    1476345    1479586    1496684\n",
      "    1522448    1582219    1612528    1621392    1637148    1777944\n",
      "    1836246    1911416    1928503    1928784    1991802    2018865\n",
      "    2044571    2056606    2077820    2181906    2184897    2197934\n",
      "    2302559    2352181    2404621    2448815    2525384    2560491\n",
      "    2614079    2636067    2690952    2707319    2758013    2758316\n",
      "    2817126    2903892    2933042    2946071    2975580    3044711\n",
      "    3087257    3123022    3177754    3216043    3313180    3322093\n",
      "    3338705    3500629    3550882    3603597    3721932    3769383\n",
      "    3771653    3836253    3966710    3978781    4099058    4235137\n",
      "    4346790    4371169    5309345    5327518    5347226    5503998\n",
      "    5730261    5733693    5761691    5847890    5921787    5947860\n",
      "    6502295    7439763    7557474    7691165    8064061    8373993\n",
      "    8773192    8882555    8918709    8957960    9102212    9443102\n",
      "    9611456   10280771   10783802   11220348   11345065   11469214\n",
      "   11756462   12471681   12623906   12829202   12913499   13044032\n",
      "   13071744   13235576   13379578   13420751   13435723   13469227\n",
      "   13477251   13502718   13667712   13874859   13933254   14379790\n",
      "   15316444   15460175   15648767   16932780   18752778   20450196\n",
      "   21547265   21591437   22877387   23404622   23866609   24753818\n",
      "   25253929   25951978   26640502   26893587   28036439   28065465\n",
      "   28498829   29051192   29422686   30130253   30162657   32122717\n",
      "   33561162   35758919   36109671   37504973   38086239   38519431\n",
      "   38636273   39604576   39905524   40371166   41171944   43498380\n",
      "   43910049   45713432   50575373   51355977   58692715   60102963\n",
      "   61076259   61425407   62097267   63484039   65141011   66274490\n",
      "   68342637   72936583   82035974   84013268   84163606   85763488\n",
      "   87501529   90966052   93326547   94356117   99402584  114968229\n",
      "  116176404  120324138  123355448  125363010  125614889  126616783\n",
      "  131571797  133069394  136318921  137925070  141991208  142651775\n",
      "  150908338  153413999  162538622  163008349  169316696  169889304\n",
      "  171721680  179589992  200599817  201978683  222178949  225768276\n",
      "  229331073  229972875  239153214  240224499  250244795  331275516\n",
      "  353455658  366851083  401315670  421014745  431017935  435529976\n",
      "  467064109  493424859  508926537  541550861  619142199  625617481\n",
      "  703487477  706201248  719513294  765418855  830960298  879674103\n",
      "  959694193 1072866563 1098958023 1150733772 1175974108 1221323193\n",
      " 1227121628 1308074798 1361682332 1615004736 1661902514 1853575387\n",
      " 1893565320 2000621772 2100370755 2144086723]\n"
     ]
    },
    {
     "data": {
      "image/png": "[encoded data removed]",
      "text/plain": [
       "<Figure size 432x288 with 1 Axes>"
      ]
     },
     "metadata": {
      "needs_background": "light"
     },
     "output_type": "display_data"
    }
   ],
   "source": [
    "def model(): \n",
    "    data = open_json_data()\n",
    "    data = transformData(data)\n",
    "    print(data.shape)\n",
    "\n",
    "    data_test = open_json_data('test.json')\n",
    "    data_test_final = open_json_data('test.json')\n",
    "    data_test = transformData(data_test)\n",
    "    print(data_test.shape)\n",
    "\n",
    "    \n",
    "    X = return_x(data)\n",
    "    y = data[\"citations\"].values\n",
    "\n",
    "    X_test = return_x(data_test, False)\n",
    "\n",
    "    X_train, _, y_train, _ = train_test_split(X, y, test_size=0.33, random_state=2000)\n",
    "\n",
    "    y_train_transformed = np.log1p(y_train)\n",
    "\n",
    "    predictions = modelCalculators(X_train, y_train_transformed, X_test,[], False)\n",
    "\n",
    "    Ypred = pd.Series(predictions.astype(int))\n",
    "    Ypred = Ypred.where(Ypred > 0, 0)\n",
    "    \n",
    "    data_test_final[\"citations\"] = Ypred.astype('int')\n",
    "\n",
    "    YpredSorted = np.sort(Ypred)\n",
    "    print(YpredSorted)\n",
    "    plotY(Ypred)\n",
    "   \n",
    "    return data_test_final.drop([\"year\", \"references\", \"is_open_access\",\"title\", \"abstract\", \"authors\", \"topics\",\"fields_of_study\", \"venue\"], axis=1)\n",
    "\n",
    "model().to_json(\"predicted.json\", orient='records')"
   ]
  }
 ],
 "metadata": {
  "interpreter": {
   "hash": "b3ba2566441a7c06988d0923437866b63cedc61552a5af99d1f4fb67d367b25f"
  },
  "kernelspec": {
   "display_name": "Python 3.8.8 64-bit ('base': conda)",
   "language": "python",
   "name": "python3"
  },
  "language_info": {
   "codemirror_mode": {
    "name": "ipython",
    "version": 3
   },
   "file_extension": ".py",
   "mimetype": "text/x-python",
   "name": "python",
   "nbconvert_exporter": "python",
   "pygments_lexer": "ipython3",
   "version": "3.8.8"
  },
  "orig_nbformat": 4
 },
 "nbformat": 4,
 "nbformat_minor": 2
}
